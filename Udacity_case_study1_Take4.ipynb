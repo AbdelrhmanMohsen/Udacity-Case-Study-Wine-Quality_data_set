{
 "cells": [
  {
   "cell_type": "markdown",
   "id": "b3ada9f1",
   "metadata": {},
   "source": [
    "# Investigate a Dataset - [Wine Quality dataset]\n",
    "\n",
    "## Table of Contents\n",
    "<ul>\n",
    "<li><a href=\"#intro\">Introduction</a></li>\n",
    "<li><a href=\"#wrangling\">Data Wrangling</a></li>\n",
    "<li><a href=\"#eda\">Exploratory Data Analysis</a></li>\n",
    "<li><a href=\"#conclusions\">Conclusions</a></li>\n",
    "</ul> "
   ]
  },
  {
   "cell_type": "markdown",
   "id": "64fb0890",
   "metadata": {},
   "source": [
    "<a id='intro'></a>\n",
    "## Introduction\n",
    "\n",
    "### The Dataset chosen for analysis: Wine Quality dataset\n",
    "\n",
    ">This data set contains information about two categories of wine, red and white wine. \n",
    "\n",
    "\n",
    "### Question(s) for Analysis\n",
    ">Is certain type of wine associated with higher quality?\n",
    "\n",
    ">Do wines with higher alcoholic content receive better ratings?\n",
    "\n",
    ">Do sweeter wines receive higher ratings?\n",
    "\n",
    ">What level of acidity receives the highest average rating?"
   ]
  },
  {
   "cell_type": "markdown",
   "id": "36e068bd",
   "metadata": {},
   "source": [
    "<a id='wrangling'></a>\n",
    "## Data Wrangling\n",
    "\n",
    ">In this section of the report, I will load in the data, check for cleanliness, and then trim and clean the dataset for analysis."
   ]
  },
  {
   "cell_type": "code",
   "execution_count": 1,
   "id": "609aa6c8",
   "metadata": {},
   "outputs": [],
   "source": [
    "import pandas as pd\n",
    "import numpy as np\n",
    "import matplotlib.pyplot as plt\n",
    "%matplotlib inline\n",
    "import seaborn as sns\n",
    "sns.set()"
   ]
  },
  {
   "cell_type": "code",
   "execution_count": 2,
   "id": "5a03a4f5",
   "metadata": {},
   "outputs": [
    {
     "data": {
      "text/html": [
       "<div>\n",
       "<style scoped>\n",
       "    .dataframe tbody tr th:only-of-type {\n",
       "        vertical-align: middle;\n",
       "    }\n",
       "\n",
       "    .dataframe tbody tr th {\n",
       "        vertical-align: top;\n",
       "    }\n",
       "\n",
       "    .dataframe thead th {\n",
       "        text-align: right;\n",
       "    }\n",
       "</style>\n",
       "<table border=\"1\" class=\"dataframe\">\n",
       "  <thead>\n",
       "    <tr style=\"text-align: right;\">\n",
       "      <th></th>\n",
       "      <th>fixed acidity</th>\n",
       "      <th>volatile acidity</th>\n",
       "      <th>citric acid</th>\n",
       "      <th>residual sugar</th>\n",
       "      <th>chlorides</th>\n",
       "      <th>free sulfur dioxide</th>\n",
       "      <th>total sulfur dioxide</th>\n",
       "      <th>density</th>\n",
       "      <th>pH</th>\n",
       "      <th>sulphates</th>\n",
       "      <th>alcohol</th>\n",
       "      <th>quality</th>\n",
       "    </tr>\n",
       "  </thead>\n",
       "  <tbody>\n",
       "    <tr>\n",
       "      <th>0</th>\n",
       "      <td>7.4</td>\n",
       "      <td>0.70</td>\n",
       "      <td>0.0</td>\n",
       "      <td>1.9</td>\n",
       "      <td>0.076</td>\n",
       "      <td>11.0</td>\n",
       "      <td>34.0</td>\n",
       "      <td>0.9978</td>\n",
       "      <td>3.51</td>\n",
       "      <td>0.56</td>\n",
       "      <td>9.4</td>\n",
       "      <td>5</td>\n",
       "    </tr>\n",
       "    <tr>\n",
       "      <th>1</th>\n",
       "      <td>7.8</td>\n",
       "      <td>0.88</td>\n",
       "      <td>0.0</td>\n",
       "      <td>2.6</td>\n",
       "      <td>0.098</td>\n",
       "      <td>25.0</td>\n",
       "      <td>67.0</td>\n",
       "      <td>0.9968</td>\n",
       "      <td>3.20</td>\n",
       "      <td>0.68</td>\n",
       "      <td>9.8</td>\n",
       "      <td>5</td>\n",
       "    </tr>\n",
       "  </tbody>\n",
       "</table>\n",
       "</div>"
      ],
      "text/plain": [
       "   fixed acidity  volatile acidity  citric acid  residual sugar  chlorides  \\\n",
       "0            7.4              0.70          0.0             1.9      0.076   \n",
       "1            7.8              0.88          0.0             2.6      0.098   \n",
       "\n",
       "   free sulfur dioxide  total sulfur dioxide  density    pH  sulphates  \\\n",
       "0                 11.0                  34.0   0.9978  3.51       0.56   \n",
       "1                 25.0                  67.0   0.9968  3.20       0.68   \n",
       "\n",
       "   alcohol  quality  \n",
       "0      9.4        5  \n",
       "1      9.8        5  "
      ]
     },
     "execution_count": 2,
     "metadata": {},
     "output_type": "execute_result"
    }
   ],
   "source": [
    "#loading the red wine dataset\n",
    "red_df = pd.read_csv('winequality-red.csv', delimiter=';')\n",
    "red_df.head(2)"
   ]
  },
  {
   "cell_type": "code",
   "execution_count": 3,
   "id": "98ce3e3e",
   "metadata": {},
   "outputs": [
    {
     "data": {
      "text/html": [
       "<div>\n",
       "<style scoped>\n",
       "    .dataframe tbody tr th:only-of-type {\n",
       "        vertical-align: middle;\n",
       "    }\n",
       "\n",
       "    .dataframe tbody tr th {\n",
       "        vertical-align: top;\n",
       "    }\n",
       "\n",
       "    .dataframe thead th {\n",
       "        text-align: right;\n",
       "    }\n",
       "</style>\n",
       "<table border=\"1\" class=\"dataframe\">\n",
       "  <thead>\n",
       "    <tr style=\"text-align: right;\">\n",
       "      <th></th>\n",
       "      <th>fixed acidity</th>\n",
       "      <th>volatile acidity</th>\n",
       "      <th>citric acid</th>\n",
       "      <th>residual sugar</th>\n",
       "      <th>chlorides</th>\n",
       "      <th>free sulfur dioxide</th>\n",
       "      <th>total sulfur dioxide</th>\n",
       "      <th>density</th>\n",
       "      <th>pH</th>\n",
       "      <th>sulphates</th>\n",
       "      <th>alcohol</th>\n",
       "      <th>quality</th>\n",
       "    </tr>\n",
       "  </thead>\n",
       "  <tbody>\n",
       "    <tr>\n",
       "      <th>0</th>\n",
       "      <td>7.0</td>\n",
       "      <td>0.27</td>\n",
       "      <td>0.36</td>\n",
       "      <td>20.7</td>\n",
       "      <td>0.045</td>\n",
       "      <td>45.0</td>\n",
       "      <td>170.0</td>\n",
       "      <td>1.001</td>\n",
       "      <td>3.0</td>\n",
       "      <td>0.45</td>\n",
       "      <td>8.8</td>\n",
       "      <td>6</td>\n",
       "    </tr>\n",
       "    <tr>\n",
       "      <th>1</th>\n",
       "      <td>6.3</td>\n",
       "      <td>0.30</td>\n",
       "      <td>0.34</td>\n",
       "      <td>1.6</td>\n",
       "      <td>0.049</td>\n",
       "      <td>14.0</td>\n",
       "      <td>132.0</td>\n",
       "      <td>0.994</td>\n",
       "      <td>3.3</td>\n",
       "      <td>0.49</td>\n",
       "      <td>9.5</td>\n",
       "      <td>6</td>\n",
       "    </tr>\n",
       "  </tbody>\n",
       "</table>\n",
       "</div>"
      ],
      "text/plain": [
       "   fixed acidity  volatile acidity  citric acid  residual sugar  chlorides  \\\n",
       "0            7.0              0.27         0.36            20.7      0.045   \n",
       "1            6.3              0.30         0.34             1.6      0.049   \n",
       "\n",
       "   free sulfur dioxide  total sulfur dioxide  density   pH  sulphates  \\\n",
       "0                 45.0                 170.0    1.001  3.0       0.45   \n",
       "1                 14.0                 132.0    0.994  3.3       0.49   \n",
       "\n",
       "   alcohol  quality  \n",
       "0      8.8        6  \n",
       "1      9.5        6  "
      ]
     },
     "execution_count": 3,
     "metadata": {},
     "output_type": "execute_result"
    }
   ],
   "source": [
    "#loading the white wine dataset\n",
    "white_df = pd.read_csv('winequality-white.csv', delimiter=';')\n",
    "white_df.head(2)"
   ]
  },
  {
   "cell_type": "code",
   "execution_count": 4,
   "id": "18153765",
   "metadata": {},
   "outputs": [
    {
     "name": "stdout",
     "output_type": "stream",
     "text": [
      "<class 'pandas.core.frame.DataFrame'>\n",
      "RangeIndex: 1599 entries, 0 to 1598\n",
      "Data columns (total 12 columns):\n",
      " #   Column                Non-Null Count  Dtype  \n",
      "---  ------                --------------  -----  \n",
      " 0   fixed acidity         1599 non-null   float64\n",
      " 1   volatile acidity      1599 non-null   float64\n",
      " 2   citric acid           1599 non-null   float64\n",
      " 3   residual sugar        1599 non-null   float64\n",
      " 4   chlorides             1599 non-null   float64\n",
      " 5   free sulfur dioxide   1599 non-null   float64\n",
      " 6   total sulfur dioxide  1599 non-null   float64\n",
      " 7   density               1599 non-null   float64\n",
      " 8   pH                    1599 non-null   float64\n",
      " 9   sulphates             1599 non-null   float64\n",
      " 10  alcohol               1599 non-null   float64\n",
      " 11  quality               1599 non-null   int64  \n",
      "dtypes: float64(11), int64(1)\n",
      "memory usage: 150.0 KB\n"
     ]
    }
   ],
   "source": [
    "red_df.info()"
   ]
  },
  {
   "cell_type": "markdown",
   "id": "febd5c95",
   "metadata": {},
   "source": [
    "### Data Cleaning\n",
    "#### The Data Structure:\n",
    ">Before cleaning the data, we have to investigate the structure of our dataset and if there is any null values, missing values,  inconsistency or inadequate datatype.\n",
    "###  The Cleaning Process:\n",
    "\n",
    ">I dropped the null values\n",
    "\n",
    ">I removed the duplicated rows"
   ]
  },
  {
   "cell_type": "code",
   "execution_count": 5,
   "id": "0ae210e1",
   "metadata": {},
   "outputs": [
    {
     "data": {
      "text/plain": [
       "0"
      ]
     },
     "execution_count": 5,
     "metadata": {},
     "output_type": "execute_result"
    }
   ],
   "source": [
    "red_df.isnull().sum().sum()"
   ]
  },
  {
   "cell_type": "code",
   "execution_count": 6,
   "id": "75259fc4",
   "metadata": {},
   "outputs": [
    {
     "data": {
      "text/plain": [
       "240"
      ]
     },
     "execution_count": 6,
     "metadata": {},
     "output_type": "execute_result"
    }
   ],
   "source": [
    "red_df.duplicated().sum()"
   ]
  },
  {
   "cell_type": "code",
   "execution_count": 7,
   "id": "7d570c25",
   "metadata": {},
   "outputs": [],
   "source": [
    "red_df.drop_duplicates(inplace= True)"
   ]
  },
  {
   "cell_type": "code",
   "execution_count": 8,
   "id": "a7721b59",
   "metadata": {},
   "outputs": [
    {
     "name": "stdout",
     "output_type": "stream",
     "text": [
      "<class 'pandas.core.frame.DataFrame'>\n",
      "RangeIndex: 4898 entries, 0 to 4897\n",
      "Data columns (total 12 columns):\n",
      " #   Column                Non-Null Count  Dtype  \n",
      "---  ------                --------------  -----  \n",
      " 0   fixed acidity         4898 non-null   float64\n",
      " 1   volatile acidity      4898 non-null   float64\n",
      " 2   citric acid           4898 non-null   float64\n",
      " 3   residual sugar        4898 non-null   float64\n",
      " 4   chlorides             4898 non-null   float64\n",
      " 5   free sulfur dioxide   4898 non-null   float64\n",
      " 6   total sulfur dioxide  4898 non-null   float64\n",
      " 7   density               4898 non-null   float64\n",
      " 8   pH                    4898 non-null   float64\n",
      " 9   sulphates             4898 non-null   float64\n",
      " 10  alcohol               4898 non-null   float64\n",
      " 11  quality               4898 non-null   int64  \n",
      "dtypes: float64(11), int64(1)\n",
      "memory usage: 459.3 KB\n"
     ]
    }
   ],
   "source": [
    "white_df.info()"
   ]
  },
  {
   "cell_type": "code",
   "execution_count": 9,
   "id": "3f386803",
   "metadata": {},
   "outputs": [
    {
     "data": {
      "text/plain": [
       "0"
      ]
     },
     "execution_count": 9,
     "metadata": {},
     "output_type": "execute_result"
    }
   ],
   "source": [
    "white_df.isnull().sum().sum()"
   ]
  },
  {
   "cell_type": "code",
   "execution_count": 10,
   "id": "581c89f4",
   "metadata": {},
   "outputs": [
    {
     "data": {
      "text/plain": [
       "937"
      ]
     },
     "execution_count": 10,
     "metadata": {},
     "output_type": "execute_result"
    }
   ],
   "source": [
    "white_df.duplicated().sum()"
   ]
  },
  {
   "cell_type": "code",
   "execution_count": 11,
   "id": "f31ec38d",
   "metadata": {},
   "outputs": [],
   "source": [
    "white_df.drop_duplicates(inplace=True)"
   ]
  },
  {
   "cell_type": "markdown",
   "id": "4f93b850",
   "metadata": {},
   "source": [
    "## Adding important columns for ths analysis"
   ]
  },
  {
   "cell_type": "code",
   "execution_count": 12,
   "id": "fb764b08",
   "metadata": {},
   "outputs": [],
   "source": [
    "red_col = np.repeat('red', red_df.shape[0])"
   ]
  },
  {
   "cell_type": "code",
   "execution_count": 13,
   "id": "d1fc0256",
   "metadata": {},
   "outputs": [
    {
     "data": {
      "text/plain": [
       "array(['red', 'red', 'red', ..., 'red', 'red', 'red'], dtype='<U3')"
      ]
     },
     "execution_count": 13,
     "metadata": {},
     "output_type": "execute_result"
    }
   ],
   "source": [
    "red_col"
   ]
  },
  {
   "cell_type": "code",
   "execution_count": 14,
   "id": "690cb9ef",
   "metadata": {},
   "outputs": [],
   "source": [
    "red_df['color'] = red_col"
   ]
  },
  {
   "cell_type": "code",
   "execution_count": 15,
   "id": "8c319bf8",
   "metadata": {},
   "outputs": [
    {
     "data": {
      "text/html": [
       "<div>\n",
       "<style scoped>\n",
       "    .dataframe tbody tr th:only-of-type {\n",
       "        vertical-align: middle;\n",
       "    }\n",
       "\n",
       "    .dataframe tbody tr th {\n",
       "        vertical-align: top;\n",
       "    }\n",
       "\n",
       "    .dataframe thead th {\n",
       "        text-align: right;\n",
       "    }\n",
       "</style>\n",
       "<table border=\"1\" class=\"dataframe\">\n",
       "  <thead>\n",
       "    <tr style=\"text-align: right;\">\n",
       "      <th></th>\n",
       "      <th>fixed acidity</th>\n",
       "      <th>volatile acidity</th>\n",
       "      <th>citric acid</th>\n",
       "      <th>residual sugar</th>\n",
       "      <th>chlorides</th>\n",
       "      <th>free sulfur dioxide</th>\n",
       "      <th>total sulfur dioxide</th>\n",
       "      <th>density</th>\n",
       "      <th>pH</th>\n",
       "      <th>sulphates</th>\n",
       "      <th>alcohol</th>\n",
       "      <th>quality</th>\n",
       "      <th>color</th>\n",
       "    </tr>\n",
       "  </thead>\n",
       "  <tbody>\n",
       "    <tr>\n",
       "      <th>0</th>\n",
       "      <td>7.4</td>\n",
       "      <td>0.7</td>\n",
       "      <td>0.0</td>\n",
       "      <td>1.9</td>\n",
       "      <td>0.076</td>\n",
       "      <td>11.0</td>\n",
       "      <td>34.0</td>\n",
       "      <td>0.9978</td>\n",
       "      <td>3.51</td>\n",
       "      <td>0.56</td>\n",
       "      <td>9.4</td>\n",
       "      <td>5</td>\n",
       "      <td>red</td>\n",
       "    </tr>\n",
       "  </tbody>\n",
       "</table>\n",
       "</div>"
      ],
      "text/plain": [
       "   fixed acidity  volatile acidity  citric acid  residual sugar  chlorides  \\\n",
       "0            7.4               0.7          0.0             1.9      0.076   \n",
       "\n",
       "   free sulfur dioxide  total sulfur dioxide  density    pH  sulphates  \\\n",
       "0                 11.0                  34.0   0.9978  3.51       0.56   \n",
       "\n",
       "   alcohol  quality color  \n",
       "0      9.4        5   red  "
      ]
     },
     "execution_count": 15,
     "metadata": {},
     "output_type": "execute_result"
    }
   ],
   "source": [
    "red_df.head(1)"
   ]
  },
  {
   "cell_type": "code",
   "execution_count": 16,
   "id": "970ab2ad",
   "metadata": {},
   "outputs": [],
   "source": [
    "white_col = np.repeat('white', white_df.shape[0])"
   ]
  },
  {
   "cell_type": "code",
   "execution_count": 17,
   "id": "742af2d7",
   "metadata": {},
   "outputs": [
    {
     "data": {
      "text/plain": [
       "array(['white', 'white', 'white', ..., 'white', 'white', 'white'],\n",
       "      dtype='<U5')"
      ]
     },
     "execution_count": 17,
     "metadata": {},
     "output_type": "execute_result"
    }
   ],
   "source": [
    "white_col"
   ]
  },
  {
   "cell_type": "code",
   "execution_count": 18,
   "id": "fb1bc570",
   "metadata": {},
   "outputs": [],
   "source": [
    "white_df['color'] = white_col"
   ]
  },
  {
   "cell_type": "code",
   "execution_count": 19,
   "id": "2299395f",
   "metadata": {},
   "outputs": [
    {
     "data": {
      "text/html": [
       "<div>\n",
       "<style scoped>\n",
       "    .dataframe tbody tr th:only-of-type {\n",
       "        vertical-align: middle;\n",
       "    }\n",
       "\n",
       "    .dataframe tbody tr th {\n",
       "        vertical-align: top;\n",
       "    }\n",
       "\n",
       "    .dataframe thead th {\n",
       "        text-align: right;\n",
       "    }\n",
       "</style>\n",
       "<table border=\"1\" class=\"dataframe\">\n",
       "  <thead>\n",
       "    <tr style=\"text-align: right;\">\n",
       "      <th></th>\n",
       "      <th>fixed acidity</th>\n",
       "      <th>volatile acidity</th>\n",
       "      <th>citric acid</th>\n",
       "      <th>residual sugar</th>\n",
       "      <th>chlorides</th>\n",
       "      <th>free sulfur dioxide</th>\n",
       "      <th>total sulfur dioxide</th>\n",
       "      <th>density</th>\n",
       "      <th>pH</th>\n",
       "      <th>sulphates</th>\n",
       "      <th>alcohol</th>\n",
       "      <th>quality</th>\n",
       "      <th>color</th>\n",
       "    </tr>\n",
       "  </thead>\n",
       "  <tbody>\n",
       "    <tr>\n",
       "      <th>0</th>\n",
       "      <td>7.0</td>\n",
       "      <td>0.27</td>\n",
       "      <td>0.36</td>\n",
       "      <td>20.7</td>\n",
       "      <td>0.045</td>\n",
       "      <td>45.0</td>\n",
       "      <td>170.0</td>\n",
       "      <td>1.001</td>\n",
       "      <td>3.0</td>\n",
       "      <td>0.45</td>\n",
       "      <td>8.8</td>\n",
       "      <td>6</td>\n",
       "      <td>white</td>\n",
       "    </tr>\n",
       "  </tbody>\n",
       "</table>\n",
       "</div>"
      ],
      "text/plain": [
       "   fixed acidity  volatile acidity  citric acid  residual sugar  chlorides  \\\n",
       "0            7.0              0.27         0.36            20.7      0.045   \n",
       "\n",
       "   free sulfur dioxide  total sulfur dioxide  density   pH  sulphates  \\\n",
       "0                 45.0                 170.0    1.001  3.0       0.45   \n",
       "\n",
       "   alcohol  quality  color  \n",
       "0      8.8        6  white  "
      ]
     },
     "execution_count": 19,
     "metadata": {},
     "output_type": "execute_result"
    }
   ],
   "source": [
    "white_df.head(1)"
   ]
  },
  {
   "cell_type": "markdown",
   "id": "52ae9792",
   "metadata": {},
   "source": [
    "## Appending the two datasets for better insights"
   ]
  },
  {
   "cell_type": "code",
   "execution_count": 20,
   "id": "311d0af1",
   "metadata": {},
   "outputs": [],
   "source": [
    "wine = red_df.append(white_df)\n"
   ]
  },
  {
   "cell_type": "code",
   "execution_count": 21,
   "id": "ee9bdae2",
   "metadata": {},
   "outputs": [
    {
     "data": {
      "text/html": [
       "<div>\n",
       "<style scoped>\n",
       "    .dataframe tbody tr th:only-of-type {\n",
       "        vertical-align: middle;\n",
       "    }\n",
       "\n",
       "    .dataframe tbody tr th {\n",
       "        vertical-align: top;\n",
       "    }\n",
       "\n",
       "    .dataframe thead th {\n",
       "        text-align: right;\n",
       "    }\n",
       "</style>\n",
       "<table border=\"1\" class=\"dataframe\">\n",
       "  <thead>\n",
       "    <tr style=\"text-align: right;\">\n",
       "      <th></th>\n",
       "      <th>fixed acidity</th>\n",
       "      <th>volatile acidity</th>\n",
       "      <th>citric acid</th>\n",
       "      <th>residual sugar</th>\n",
       "      <th>chlorides</th>\n",
       "      <th>free sulfur dioxide</th>\n",
       "      <th>total sulfur dioxide</th>\n",
       "      <th>density</th>\n",
       "      <th>pH</th>\n",
       "      <th>sulphates</th>\n",
       "      <th>alcohol</th>\n",
       "      <th>quality</th>\n",
       "      <th>color</th>\n",
       "    </tr>\n",
       "  </thead>\n",
       "  <tbody>\n",
       "    <tr>\n",
       "      <th>0</th>\n",
       "      <td>7.4</td>\n",
       "      <td>0.7</td>\n",
       "      <td>0.0</td>\n",
       "      <td>1.9</td>\n",
       "      <td>0.076</td>\n",
       "      <td>11.0</td>\n",
       "      <td>34.0</td>\n",
       "      <td>0.9978</td>\n",
       "      <td>3.51</td>\n",
       "      <td>0.56</td>\n",
       "      <td>9.4</td>\n",
       "      <td>5</td>\n",
       "      <td>red</td>\n",
       "    </tr>\n",
       "  </tbody>\n",
       "</table>\n",
       "</div>"
      ],
      "text/plain": [
       "   fixed acidity  volatile acidity  citric acid  residual sugar  chlorides  \\\n",
       "0            7.4               0.7          0.0             1.9      0.076   \n",
       "\n",
       "   free sulfur dioxide  total sulfur dioxide  density    pH  sulphates  \\\n",
       "0                 11.0                  34.0   0.9978  3.51       0.56   \n",
       "\n",
       "   alcohol  quality color  \n",
       "0      9.4        5   red  "
      ]
     },
     "execution_count": 21,
     "metadata": {},
     "output_type": "execute_result"
    }
   ],
   "source": [
    "wine.head(1)"
   ]
  },
  {
   "cell_type": "code",
   "execution_count": 22,
   "id": "46457fd8",
   "metadata": {},
   "outputs": [
    {
     "name": "stdout",
     "output_type": "stream",
     "text": [
      "<class 'pandas.core.frame.DataFrame'>\n",
      "Int64Index: 5320 entries, 0 to 4897\n",
      "Data columns (total 13 columns):\n",
      " #   Column                Non-Null Count  Dtype  \n",
      "---  ------                --------------  -----  \n",
      " 0   fixed acidity         5320 non-null   float64\n",
      " 1   volatile acidity      5320 non-null   float64\n",
      " 2   citric acid           5320 non-null   float64\n",
      " 3   residual sugar        5320 non-null   float64\n",
      " 4   chlorides             5320 non-null   float64\n",
      " 5   free sulfur dioxide   5320 non-null   float64\n",
      " 6   total sulfur dioxide  5320 non-null   float64\n",
      " 7   density               5320 non-null   float64\n",
      " 8   pH                    5320 non-null   float64\n",
      " 9   sulphates             5320 non-null   float64\n",
      " 10  alcohol               5320 non-null   float64\n",
      " 11  quality               5320 non-null   int64  \n",
      " 12  color                 5320 non-null   object \n",
      "dtypes: float64(11), int64(1), object(1)\n",
      "memory usage: 581.9+ KB\n"
     ]
    }
   ],
   "source": [
    "wine.info()"
   ]
  },
  {
   "cell_type": "code",
   "execution_count": 23,
   "id": "e2a3bfa6",
   "metadata": {},
   "outputs": [],
   "source": [
    "wine.rename(columns= lambda x: x.strip().lower().replace(' ','_'), inplace=True)"
   ]
  },
  {
   "cell_type": "code",
   "execution_count": 24,
   "id": "dc8cf27b",
   "metadata": {},
   "outputs": [
    {
     "data": {
      "text/html": [
       "<div>\n",
       "<style scoped>\n",
       "    .dataframe tbody tr th:only-of-type {\n",
       "        vertical-align: middle;\n",
       "    }\n",
       "\n",
       "    .dataframe tbody tr th {\n",
       "        vertical-align: top;\n",
       "    }\n",
       "\n",
       "    .dataframe thead th {\n",
       "        text-align: right;\n",
       "    }\n",
       "</style>\n",
       "<table border=\"1\" class=\"dataframe\">\n",
       "  <thead>\n",
       "    <tr style=\"text-align: right;\">\n",
       "      <th></th>\n",
       "      <th>fixed_acidity</th>\n",
       "      <th>volatile_acidity</th>\n",
       "      <th>citric_acid</th>\n",
       "      <th>residual_sugar</th>\n",
       "      <th>chlorides</th>\n",
       "      <th>free_sulfur_dioxide</th>\n",
       "      <th>total_sulfur_dioxide</th>\n",
       "      <th>density</th>\n",
       "      <th>ph</th>\n",
       "      <th>sulphates</th>\n",
       "      <th>alcohol</th>\n",
       "      <th>quality</th>\n",
       "      <th>color</th>\n",
       "    </tr>\n",
       "  </thead>\n",
       "  <tbody>\n",
       "    <tr>\n",
       "      <th>0</th>\n",
       "      <td>7.4</td>\n",
       "      <td>0.7</td>\n",
       "      <td>0.0</td>\n",
       "      <td>1.9</td>\n",
       "      <td>0.076</td>\n",
       "      <td>11.0</td>\n",
       "      <td>34.0</td>\n",
       "      <td>0.9978</td>\n",
       "      <td>3.51</td>\n",
       "      <td>0.56</td>\n",
       "      <td>9.4</td>\n",
       "      <td>5</td>\n",
       "      <td>red</td>\n",
       "    </tr>\n",
       "  </tbody>\n",
       "</table>\n",
       "</div>"
      ],
      "text/plain": [
       "   fixed_acidity  volatile_acidity  citric_acid  residual_sugar  chlorides  \\\n",
       "0            7.4               0.7          0.0             1.9      0.076   \n",
       "\n",
       "   free_sulfur_dioxide  total_sulfur_dioxide  density    ph  sulphates  \\\n",
       "0                 11.0                  34.0   0.9978  3.51       0.56   \n",
       "\n",
       "   alcohol  quality color  \n",
       "0      9.4        5   red  "
      ]
     },
     "execution_count": 24,
     "metadata": {},
     "output_type": "execute_result"
    }
   ],
   "source": [
    "wine.head(1)"
   ]
  },
  {
   "cell_type": "code",
   "execution_count": 25,
   "id": "216c3aa6",
   "metadata": {},
   "outputs": [
    {
     "data": {
      "image/png": "[encoded data removed]",
      "text/plain": [
       "<Figure size 936x936 with 12 Axes>"
      ]
     },
     "metadata": {},
     "output_type": "display_data"
    }
   ],
   "source": [
    "wine.hist(figsize=(13,13));"
   ]
  },
  {
   "cell_type": "code",
   "execution_count": 26,
   "id": "700d59c7",
   "metadata": {},
   "outputs": [
    {
     "name": "stderr",
     "output_type": "stream",
     "text": [
      "*c* argument looks like a single numeric RGB or RGBA sequence, which should be avoided as value-mapping will have precedence in case its length matches with *x* & *y*.  Please use the *color* keyword-argument or provide a 2-D array with a single row if you intend to specify the same RGB or RGBA value for all points.\n"
     ]
    },
    {
     "data": {
      "image/png": "[encoded data removed]",
      "text/plain": [
       "<Figure size 432x288 with 1 Axes>"
      ]
     },
     "metadata": {},
     "output_type": "display_data"
    }
   ],
   "source": [
    "wine.plot(x= 'quality',y= 'alcohol', kind = 'scatter')\n",
    "plt.title('Relation between acohol and quality', fontsize = 18, weight = 'bold')\n",
    "plt.xlabel('quality', fontsize = 18, weight = 'bold')\n",
    "plt.ylabel('alcohol', fontsize = 18, weight = 'bold')\n",
    "plt.show()"
   ]
  },
  {
   "cell_type": "markdown",
   "id": "a33fee48",
   "metadata": {},
   "source": [
    "## Exploratory Data Analysis\n",
    ">After cleaning our dataset Now we shall analyze it looking at the different characteristics and it's relation with quality."
   ]
  },
  {
   "cell_type": "markdown",
   "id": "eff65051",
   "metadata": {},
   "source": [
    "## Is certain type of wine associated with higher quality?"
   ]
  },
  {
   "cell_type": "code",
   "execution_count": 27,
   "id": "7830ad8b",
   "metadata": {},
   "outputs": [],
   "source": [
    "white = wine.query('color == \"white\"')\n",
    "red = wine.query('color == \"red\"')"
   ]
  },
  {
   "cell_type": "code",
   "execution_count": 28,
   "id": "57e87ab5",
   "metadata": {},
   "outputs": [],
   "source": [
    "quality_red = red['quality'].mean()\n",
    "quality_white = white['quality'].mean()"
   ]
  },
  {
   "cell_type": "code",
   "execution_count": 29,
   "id": "f14ee1e2",
   "metadata": {},
   "outputs": [
    {
     "data": {
      "text/plain": [
       "5.6232523914643116"
      ]
     },
     "execution_count": 29,
     "metadata": {},
     "output_type": "execute_result"
    }
   ],
   "source": [
    "quality_red"
   ]
  },
  {
   "cell_type": "code",
   "execution_count": 30,
   "id": "de0ad3f4",
   "metadata": {},
   "outputs": [
    {
     "data": {
      "text/plain": [
       "5.854834637717748"
      ]
     },
     "execution_count": 30,
     "metadata": {},
     "output_type": "execute_result"
    }
   ],
   "source": [
    "quality_white"
   ]
  },
  {
   "cell_type": "code",
   "execution_count": 31,
   "id": "12681e30",
   "metadata": {},
   "outputs": [
    {
     "data": {
      "image/png": "[encoded data removed]",
      "text/plain": [
       "<Figure size 864x576 with 1 Axes>"
      ]
     },
     "metadata": {},
     "output_type": "display_data"
    }
   ],
   "source": [
    "plt.figure(figsize=(12,8))\n",
    "plt.bar(['red', 'white'], [quality_red, quality_white])\n",
    "plt.title('quality depending of wine type', fontsize = 18, weight = 'bold')\n",
    "plt.xlabel('wine type', fontsize = 18, weight = 'bold')\n",
    "plt.ylabel('quality', fontsize = 18, weight = 'bold')\n",
    "plt.show()"
   ]
  },
  {
   "cell_type": "markdown",
   "id": "0fe0cb14",
   "metadata": {},
   "source": [
    ">> The white wine seems to have an edge over the red wine depending on the analysis."
   ]
  },
  {
   "cell_type": "code",
   "execution_count": 32,
   "id": "fb0e444c",
   "metadata": {},
   "outputs": [
    {
     "data": {
      "text/html": [
       "<div>\n",
       "<style scoped>\n",
       "    .dataframe tbody tr th:only-of-type {\n",
       "        vertical-align: middle;\n",
       "    }\n",
       "\n",
       "    .dataframe tbody tr th {\n",
       "        vertical-align: top;\n",
       "    }\n",
       "\n",
       "    .dataframe thead th {\n",
       "        text-align: right;\n",
       "    }\n",
       "</style>\n",
       "<table border=\"1\" class=\"dataframe\">\n",
       "  <thead>\n",
       "    <tr style=\"text-align: right;\">\n",
       "      <th></th>\n",
       "      <th></th>\n",
       "      <th>fixed_acidity</th>\n",
       "      <th>volatile_acidity</th>\n",
       "      <th>citric_acid</th>\n",
       "      <th>residual_sugar</th>\n",
       "      <th>chlorides</th>\n",
       "      <th>free_sulfur_dioxide</th>\n",
       "      <th>total_sulfur_dioxide</th>\n",
       "      <th>density</th>\n",
       "      <th>ph</th>\n",
       "      <th>sulphates</th>\n",
       "      <th>alcohol</th>\n",
       "    </tr>\n",
       "    <tr>\n",
       "      <th>quality</th>\n",
       "      <th>color</th>\n",
       "      <th></th>\n",
       "      <th></th>\n",
       "      <th></th>\n",
       "      <th></th>\n",
       "      <th></th>\n",
       "      <th></th>\n",
       "      <th></th>\n",
       "      <th></th>\n",
       "      <th></th>\n",
       "      <th></th>\n",
       "      <th></th>\n",
       "    </tr>\n",
       "  </thead>\n",
       "  <tbody>\n",
       "    <tr>\n",
       "      <th rowspan=\"2\" valign=\"top\">3</th>\n",
       "      <th>red</th>\n",
       "      <td>8.360000</td>\n",
       "      <td>0.884500</td>\n",
       "      <td>0.171000</td>\n",
       "      <td>2.635000</td>\n",
       "      <td>0.122500</td>\n",
       "      <td>11.000000</td>\n",
       "      <td>24.900000</td>\n",
       "      <td>0.997464</td>\n",
       "      <td>3.398000</td>\n",
       "      <td>0.570000</td>\n",
       "      <td>9.955000</td>\n",
       "    </tr>\n",
       "    <tr>\n",
       "      <th>white</th>\n",
       "      <td>7.600000</td>\n",
       "      <td>0.333250</td>\n",
       "      <td>0.336000</td>\n",
       "      <td>6.392500</td>\n",
       "      <td>0.054300</td>\n",
       "      <td>53.325000</td>\n",
       "      <td>170.600000</td>\n",
       "      <td>0.994884</td>\n",
       "      <td>3.187500</td>\n",
       "      <td>0.474500</td>\n",
       "      <td>10.345000</td>\n",
       "    </tr>\n",
       "    <tr>\n",
       "      <th rowspan=\"2\" valign=\"top\">4</th>\n",
       "      <th>red</th>\n",
       "      <td>7.779245</td>\n",
       "      <td>0.693962</td>\n",
       "      <td>0.174151</td>\n",
       "      <td>2.694340</td>\n",
       "      <td>0.090679</td>\n",
       "      <td>12.264151</td>\n",
       "      <td>36.245283</td>\n",
       "      <td>0.996542</td>\n",
       "      <td>3.381509</td>\n",
       "      <td>0.596415</td>\n",
       "      <td>10.265094</td>\n",
       "    </tr>\n",
       "    <tr>\n",
       "      <th>white</th>\n",
       "      <td>7.139869</td>\n",
       "      <td>0.382157</td>\n",
       "      <td>0.305229</td>\n",
       "      <td>4.499346</td>\n",
       "      <td>0.050059</td>\n",
       "      <td>23.127451</td>\n",
       "      <td>124.127451</td>\n",
       "      <td>0.994199</td>\n",
       "      <td>3.185425</td>\n",
       "      <td>0.476667</td>\n",
       "      <td>10.197712</td>\n",
       "    </tr>\n",
       "    <tr>\n",
       "      <th rowspan=\"2\" valign=\"top\">5</th>\n",
       "      <th>red</th>\n",
       "      <td>8.171231</td>\n",
       "      <td>0.578596</td>\n",
       "      <td>0.244523</td>\n",
       "      <td>2.509532</td>\n",
       "      <td>0.093971</td>\n",
       "      <td>17.161179</td>\n",
       "      <td>57.406412</td>\n",
       "      <td>0.997082</td>\n",
       "      <td>3.300815</td>\n",
       "      <td>0.623570</td>\n",
       "      <td>9.888562</td>\n",
       "    </tr>\n",
       "    <tr>\n",
       "      <th>white</th>\n",
       "      <td>6.921745</td>\n",
       "      <td>0.303306</td>\n",
       "      <td>0.335957</td>\n",
       "      <td>6.941532</td>\n",
       "      <td>0.052323</td>\n",
       "      <td>36.002979</td>\n",
       "      <td>150.099574</td>\n",
       "      <td>0.995072</td>\n",
       "      <td>3.171779</td>\n",
       "      <td>0.482621</td>\n",
       "      <td>9.864182</td>\n",
       "    </tr>\n",
       "    <tr>\n",
       "      <th rowspan=\"2\" valign=\"top\">6</th>\n",
       "      <th>red</th>\n",
       "      <td>8.337383</td>\n",
       "      <td>0.496084</td>\n",
       "      <td>0.279364</td>\n",
       "      <td>2.457290</td>\n",
       "      <td>0.085075</td>\n",
       "      <td>15.637383</td>\n",
       "      <td>40.816822</td>\n",
       "      <td>0.996565</td>\n",
       "      <td>3.318000</td>\n",
       "      <td>0.674542</td>\n",
       "      <td>10.658879</td>\n",
       "    </tr>\n",
       "    <tr>\n",
       "      <th>white</th>\n",
       "      <td>6.819435</td>\n",
       "      <td>0.261630</td>\n",
       "      <td>0.338227</td>\n",
       "      <td>5.959787</td>\n",
       "      <td>0.045178</td>\n",
       "      <td>35.308166</td>\n",
       "      <td>136.460850</td>\n",
       "      <td>0.993722</td>\n",
       "      <td>3.196029</td>\n",
       "      <td>0.492355</td>\n",
       "      <td>10.646122</td>\n",
       "    </tr>\n",
       "    <tr>\n",
       "      <th rowspan=\"2\" valign=\"top\">7</th>\n",
       "      <th>red</th>\n",
       "      <td>8.858683</td>\n",
       "      <td>0.403653</td>\n",
       "      <td>0.371856</td>\n",
       "      <td>2.716766</td>\n",
       "      <td>0.076832</td>\n",
       "      <td>13.994012</td>\n",
       "      <td>35.449102</td>\n",
       "      <td>0.996051</td>\n",
       "      <td>3.290060</td>\n",
       "      <td>0.742635</td>\n",
       "      <td>11.491118</td>\n",
       "    </tr>\n",
       "    <tr>\n",
       "      <th>white</th>\n",
       "      <td>6.701089</td>\n",
       "      <td>0.265363</td>\n",
       "      <td>0.327358</td>\n",
       "      <td>4.523875</td>\n",
       "      <td>0.037556</td>\n",
       "      <td>33.851234</td>\n",
       "      <td>122.052975</td>\n",
       "      <td>0.992059</td>\n",
       "      <td>3.228462</td>\n",
       "      <td>0.502859</td>\n",
       "      <td>11.515844</td>\n",
       "    </tr>\n",
       "    <tr>\n",
       "      <th rowspan=\"2\" valign=\"top\">8</th>\n",
       "      <th>red</th>\n",
       "      <td>8.441176</td>\n",
       "      <td>0.427647</td>\n",
       "      <td>0.382941</td>\n",
       "      <td>2.576471</td>\n",
       "      <td>0.068353</td>\n",
       "      <td>13.764706</td>\n",
       "      <td>34.470588</td>\n",
       "      <td>0.995095</td>\n",
       "      <td>3.274118</td>\n",
       "      <td>0.774706</td>\n",
       "      <td>12.158824</td>\n",
       "    </tr>\n",
       "    <tr>\n",
       "      <th>white</th>\n",
       "      <td>6.609924</td>\n",
       "      <td>0.286794</td>\n",
       "      <td>0.335038</td>\n",
       "      <td>5.056489</td>\n",
       "      <td>0.036756</td>\n",
       "      <td>35.618321</td>\n",
       "      <td>122.034351</td>\n",
       "      <td>0.991745</td>\n",
       "      <td>3.235115</td>\n",
       "      <td>0.485878</td>\n",
       "      <td>11.880153</td>\n",
       "    </tr>\n",
       "    <tr>\n",
       "      <th>9</th>\n",
       "      <th>white</th>\n",
       "      <td>7.420000</td>\n",
       "      <td>0.298000</td>\n",
       "      <td>0.386000</td>\n",
       "      <td>4.120000</td>\n",
       "      <td>0.027400</td>\n",
       "      <td>33.400000</td>\n",
       "      <td>116.000000</td>\n",
       "      <td>0.991460</td>\n",
       "      <td>3.308000</td>\n",
       "      <td>0.466000</td>\n",
       "      <td>12.180000</td>\n",
       "    </tr>\n",
       "  </tbody>\n",
       "</table>\n",
       "</div>"
      ],
      "text/plain": [
       "               fixed_acidity  volatile_acidity  citric_acid  residual_sugar  \\\n",
       "quality color                                                                 \n",
       "3       red         8.360000          0.884500     0.171000        2.635000   \n",
       "        white       7.600000          0.333250     0.336000        6.392500   \n",
       "4       red         7.779245          0.693962     0.174151        2.694340   \n",
       "        white       7.139869          0.382157     0.305229        4.499346   \n",
       "5       red         8.171231          0.578596     0.244523        2.509532   \n",
       "        white       6.921745          0.303306     0.335957        6.941532   \n",
       "6       red         8.337383          0.496084     0.279364        2.457290   \n",
       "        white       6.819435          0.261630     0.338227        5.959787   \n",
       "7       red         8.858683          0.403653     0.371856        2.716766   \n",
       "        white       6.701089          0.265363     0.327358        4.523875   \n",
       "8       red         8.441176          0.427647     0.382941        2.576471   \n",
       "        white       6.609924          0.286794     0.335038        5.056489   \n",
       "9       white       7.420000          0.298000     0.386000        4.120000   \n",
       "\n",
       "               chlorides  free_sulfur_dioxide  total_sulfur_dioxide   density  \\\n",
       "quality color                                                                   \n",
       "3       red     0.122500            11.000000             24.900000  0.997464   \n",
       "        white   0.054300            53.325000            170.600000  0.994884   \n",
       "4       red     0.090679            12.264151             36.245283  0.996542   \n",
       "        white   0.050059            23.127451            124.127451  0.994199   \n",
       "5       red     0.093971            17.161179             57.406412  0.997082   \n",
       "        white   0.052323            36.002979            150.099574  0.995072   \n",
       "6       red     0.085075            15.637383             40.816822  0.996565   \n",
       "        white   0.045178            35.308166            136.460850  0.993722   \n",
       "7       red     0.076832            13.994012             35.449102  0.996051   \n",
       "        white   0.037556            33.851234            122.052975  0.992059   \n",
       "8       red     0.068353            13.764706             34.470588  0.995095   \n",
       "        white   0.036756            35.618321            122.034351  0.991745   \n",
       "9       white   0.027400            33.400000            116.000000  0.991460   \n",
       "\n",
       "                     ph  sulphates    alcohol  \n",
       "quality color                                  \n",
       "3       red    3.398000   0.570000   9.955000  \n",
       "        white  3.187500   0.474500  10.345000  \n",
       "4       red    3.381509   0.596415  10.265094  \n",
       "        white  3.185425   0.476667  10.197712  \n",
       "5       red    3.300815   0.623570   9.888562  \n",
       "        white  3.171779   0.482621   9.864182  \n",
       "6       red    3.318000   0.674542  10.658879  \n",
       "        white  3.196029   0.492355  10.646122  \n",
       "7       red    3.290060   0.742635  11.491118  \n",
       "        white  3.228462   0.502859  11.515844  \n",
       "8       red    3.274118   0.774706  12.158824  \n",
       "        white  3.235115   0.485878  11.880153  \n",
       "9       white  3.308000   0.466000  12.180000  "
      ]
     },
     "execution_count": 32,
     "metadata": {},
     "output_type": "execute_result"
    }
   ],
   "source": [
    "wine.groupby(['quality', 'color']).mean()"
   ]
  },
  {
   "cell_type": "markdown",
   "id": "d2d49892",
   "metadata": {},
   "source": [
    "### We need to add another column to be able to analyze the data depending on the aciditiy level as it is a main characteristic."
   ]
  },
  {
   "cell_type": "code",
   "execution_count": 33,
   "id": "e411a0ee",
   "metadata": {},
   "outputs": [
    {
     "data": {
      "text/plain": [
       "count    5320.000000\n",
       "mean        3.224664\n",
       "std         0.160379\n",
       "min         2.720000\n",
       "25%         3.110000\n",
       "50%         3.210000\n",
       "75%         3.330000\n",
       "max         4.010000\n",
       "Name: ph, dtype: float64"
      ]
     },
     "execution_count": 33,
     "metadata": {},
     "output_type": "execute_result"
    }
   ],
   "source": [
    "wine['ph'].describe()"
   ]
  },
  {
   "cell_type": "code",
   "execution_count": 34,
   "id": "278bafdd",
   "metadata": {},
   "outputs": [],
   "source": [
    "bins = [2.72,3.11,3.21,3.33,4.01]\n",
    "label = ['high', 'mod_high', 'med', 'low']"
   ]
  },
  {
   "cell_type": "code",
   "execution_count": 35,
   "id": "0060a8a9",
   "metadata": {},
   "outputs": [],
   "source": [
    "wine['acidity_levels'] = pd.cut(wine['ph'], bins, labels=label)"
   ]
  },
  {
   "cell_type": "code",
   "execution_count": 36,
   "id": "fc3c139a",
   "metadata": {},
   "outputs": [
    {
     "data": {
      "text/html": [
       "<div>\n",
       "<style scoped>\n",
       "    .dataframe tbody tr th:only-of-type {\n",
       "        vertical-align: middle;\n",
       "    }\n",
       "\n",
       "    .dataframe tbody tr th {\n",
       "        vertical-align: top;\n",
       "    }\n",
       "\n",
       "    .dataframe thead th {\n",
       "        text-align: right;\n",
       "    }\n",
       "</style>\n",
       "<table border=\"1\" class=\"dataframe\">\n",
       "  <thead>\n",
       "    <tr style=\"text-align: right;\">\n",
       "      <th></th>\n",
       "      <th>fixed_acidity</th>\n",
       "      <th>volatile_acidity</th>\n",
       "      <th>citric_acid</th>\n",
       "      <th>residual_sugar</th>\n",
       "      <th>chlorides</th>\n",
       "      <th>free_sulfur_dioxide</th>\n",
       "      <th>total_sulfur_dioxide</th>\n",
       "      <th>density</th>\n",
       "      <th>ph</th>\n",
       "      <th>sulphates</th>\n",
       "      <th>alcohol</th>\n",
       "      <th>quality</th>\n",
       "      <th>color</th>\n",
       "      <th>acidity_levels</th>\n",
       "    </tr>\n",
       "  </thead>\n",
       "  <tbody>\n",
       "    <tr>\n",
       "      <th>0</th>\n",
       "      <td>7.4</td>\n",
       "      <td>0.7</td>\n",
       "      <td>0.0</td>\n",
       "      <td>1.9</td>\n",
       "      <td>0.076</td>\n",
       "      <td>11.0</td>\n",
       "      <td>34.0</td>\n",
       "      <td>0.9978</td>\n",
       "      <td>3.51</td>\n",
       "      <td>0.56</td>\n",
       "      <td>9.4</td>\n",
       "      <td>5</td>\n",
       "      <td>red</td>\n",
       "      <td>low</td>\n",
       "    </tr>\n",
       "  </tbody>\n",
       "</table>\n",
       "</div>"
      ],
      "text/plain": [
       "   fixed_acidity  volatile_acidity  citric_acid  residual_sugar  chlorides  \\\n",
       "0            7.4               0.7          0.0             1.9      0.076   \n",
       "\n",
       "   free_sulfur_dioxide  total_sulfur_dioxide  density    ph  sulphates  \\\n",
       "0                 11.0                  34.0   0.9978  3.51       0.56   \n",
       "\n",
       "   alcohol  quality color acidity_levels  \n",
       "0      9.4        5   red            low  "
      ]
     },
     "execution_count": 36,
     "metadata": {},
     "output_type": "execute_result"
    }
   ],
   "source": [
    "wine.head(1)"
   ]
  },
  {
   "cell_type": "code",
   "execution_count": 37,
   "id": "824e72d8",
   "metadata": {},
   "outputs": [
    {
     "data": {
      "text/html": [
       "<div>\n",
       "<style scoped>\n",
       "    .dataframe tbody tr th:only-of-type {\n",
       "        vertical-align: middle;\n",
       "    }\n",
       "\n",
       "    .dataframe tbody tr th {\n",
       "        vertical-align: top;\n",
       "    }\n",
       "\n",
       "    .dataframe thead th {\n",
       "        text-align: right;\n",
       "    }\n",
       "</style>\n",
       "<table border=\"1\" class=\"dataframe\">\n",
       "  <thead>\n",
       "    <tr style=\"text-align: right;\">\n",
       "      <th></th>\n",
       "      <th></th>\n",
       "      <th>fixed_acidity</th>\n",
       "      <th>volatile_acidity</th>\n",
       "      <th>citric_acid</th>\n",
       "      <th>residual_sugar</th>\n",
       "      <th>chlorides</th>\n",
       "      <th>free_sulfur_dioxide</th>\n",
       "      <th>total_sulfur_dioxide</th>\n",
       "      <th>density</th>\n",
       "      <th>ph</th>\n",
       "      <th>sulphates</th>\n",
       "      <th>alcohol</th>\n",
       "      <th>quality</th>\n",
       "    </tr>\n",
       "    <tr>\n",
       "      <th>acidity_levels</th>\n",
       "      <th>color</th>\n",
       "      <th></th>\n",
       "      <th></th>\n",
       "      <th></th>\n",
       "      <th></th>\n",
       "      <th></th>\n",
       "      <th></th>\n",
       "      <th></th>\n",
       "      <th></th>\n",
       "      <th></th>\n",
       "      <th></th>\n",
       "      <th></th>\n",
       "      <th></th>\n",
       "    </tr>\n",
       "  </thead>\n",
       "  <tbody>\n",
       "    <tr>\n",
       "      <th rowspan=\"2\" valign=\"top\">high</th>\n",
       "      <th>red</th>\n",
       "      <td>10.571200</td>\n",
       "      <td>0.485480</td>\n",
       "      <td>0.478960</td>\n",
       "      <td>2.548400</td>\n",
       "      <td>0.128904</td>\n",
       "      <td>15.128000</td>\n",
       "      <td>51.560000</td>\n",
       "      <td>0.997878</td>\n",
       "      <td>3.037280</td>\n",
       "      <td>0.797680</td>\n",
       "      <td>10.132267</td>\n",
       "      <td>5.640000</td>\n",
       "    </tr>\n",
       "    <tr>\n",
       "      <th>white</th>\n",
       "      <td>7.281509</td>\n",
       "      <td>0.282019</td>\n",
       "      <td>0.364801</td>\n",
       "      <td>6.873632</td>\n",
       "      <td>0.049148</td>\n",
       "      <td>34.600746</td>\n",
       "      <td>135.880182</td>\n",
       "      <td>0.994095</td>\n",
       "      <td>3.030896</td>\n",
       "      <td>0.479635</td>\n",
       "      <td>10.455127</td>\n",
       "      <td>5.737148</td>\n",
       "    </tr>\n",
       "    <tr>\n",
       "      <th rowspan=\"2\" valign=\"top\">mod_high</th>\n",
       "      <th>red</th>\n",
       "      <td>9.530932</td>\n",
       "      <td>0.483496</td>\n",
       "      <td>0.375000</td>\n",
       "      <td>2.694703</td>\n",
       "      <td>0.095682</td>\n",
       "      <td>14.995763</td>\n",
       "      <td>48.726695</td>\n",
       "      <td>0.997382</td>\n",
       "      <td>3.169492</td>\n",
       "      <td>0.665890</td>\n",
       "      <td>10.261723</td>\n",
       "      <td>5.686441</td>\n",
       "    </tr>\n",
       "    <tr>\n",
       "      <th>white</th>\n",
       "      <td>6.909461</td>\n",
       "      <td>0.283560</td>\n",
       "      <td>0.335402</td>\n",
       "      <td>6.178108</td>\n",
       "      <td>0.046659</td>\n",
       "      <td>36.640311</td>\n",
       "      <td>141.923218</td>\n",
       "      <td>0.993928</td>\n",
       "      <td>3.163830</td>\n",
       "      <td>0.477450</td>\n",
       "      <td>10.476386</td>\n",
       "      <td>5.784278</td>\n",
       "    </tr>\n",
       "    <tr>\n",
       "      <th rowspan=\"2\" valign=\"top\">med</th>\n",
       "      <th>red</th>\n",
       "      <td>8.516587</td>\n",
       "      <td>0.506767</td>\n",
       "      <td>0.301659</td>\n",
       "      <td>2.573918</td>\n",
       "      <td>0.085548</td>\n",
       "      <td>15.823317</td>\n",
       "      <td>50.187500</td>\n",
       "      <td>0.996804</td>\n",
       "      <td>3.277572</td>\n",
       "      <td>0.651010</td>\n",
       "      <td>10.402564</td>\n",
       "      <td>5.668269</td>\n",
       "    </tr>\n",
       "    <tr>\n",
       "      <th>white</th>\n",
       "      <td>6.554410</td>\n",
       "      <td>0.283800</td>\n",
       "      <td>0.319190</td>\n",
       "      <td>5.117436</td>\n",
       "      <td>0.043564</td>\n",
       "      <td>33.732821</td>\n",
       "      <td>133.984103</td>\n",
       "      <td>0.993258</td>\n",
       "      <td>3.267590</td>\n",
       "      <td>0.497867</td>\n",
       "      <td>10.798937</td>\n",
       "      <td>5.931282</td>\n",
       "    </tr>\n",
       "    <tr>\n",
       "      <th rowspan=\"2\" valign=\"top\">low</th>\n",
       "      <th>red</th>\n",
       "      <td>7.182990</td>\n",
       "      <td>0.573806</td>\n",
       "      <td>0.165361</td>\n",
       "      <td>2.412457</td>\n",
       "      <td>0.078141</td>\n",
       "      <td>16.471649</td>\n",
       "      <td>42.635739</td>\n",
       "      <td>0.996117</td>\n",
       "      <td>3.448230</td>\n",
       "      <td>0.631443</td>\n",
       "      <td>10.587199</td>\n",
       "      <td>5.561856</td>\n",
       "    </tr>\n",
       "    <tr>\n",
       "      <th>white</th>\n",
       "      <td>6.349854</td>\n",
       "      <td>0.268533</td>\n",
       "      <td>0.300628</td>\n",
       "      <td>4.929270</td>\n",
       "      <td>0.042342</td>\n",
       "      <td>34.231387</td>\n",
       "      <td>136.478102</td>\n",
       "      <td>0.993780</td>\n",
       "      <td>3.433723</td>\n",
       "      <td>0.519212</td>\n",
       "      <td>10.709100</td>\n",
       "      <td>6.065693</td>\n",
       "    </tr>\n",
       "  </tbody>\n",
       "</table>\n",
       "</div>"
      ],
      "text/plain": [
       "                      fixed_acidity  volatile_acidity  citric_acid  \\\n",
       "acidity_levels color                                                 \n",
       "high           red        10.571200          0.485480     0.478960   \n",
       "               white       7.281509          0.282019     0.364801   \n",
       "mod_high       red         9.530932          0.483496     0.375000   \n",
       "               white       6.909461          0.283560     0.335402   \n",
       "med            red         8.516587          0.506767     0.301659   \n",
       "               white       6.554410          0.283800     0.319190   \n",
       "low            red         7.182990          0.573806     0.165361   \n",
       "               white       6.349854          0.268533     0.300628   \n",
       "\n",
       "                      residual_sugar  chlorides  free_sulfur_dioxide  \\\n",
       "acidity_levels color                                                   \n",
       "high           red          2.548400   0.128904            15.128000   \n",
       "               white        6.873632   0.049148            34.600746   \n",
       "mod_high       red          2.694703   0.095682            14.995763   \n",
       "               white        6.178108   0.046659            36.640311   \n",
       "med            red          2.573918   0.085548            15.823317   \n",
       "               white        5.117436   0.043564            33.732821   \n",
       "low            red          2.412457   0.078141            16.471649   \n",
       "               white        4.929270   0.042342            34.231387   \n",
       "\n",
       "                      total_sulfur_dioxide   density        ph  sulphates  \\\n",
       "acidity_levels color                                                        \n",
       "high           red               51.560000  0.997878  3.037280   0.797680   \n",
       "               white            135.880182  0.994095  3.030896   0.479635   \n",
       "mod_high       red               48.726695  0.997382  3.169492   0.665890   \n",
       "               white            141.923218  0.993928  3.163830   0.477450   \n",
       "med            red               50.187500  0.996804  3.277572   0.651010   \n",
       "               white            133.984103  0.993258  3.267590   0.497867   \n",
       "low            red               42.635739  0.996117  3.448230   0.631443   \n",
       "               white            136.478102  0.993780  3.433723   0.519212   \n",
       "\n",
       "                        alcohol   quality  \n",
       "acidity_levels color                       \n",
       "high           red    10.132267  5.640000  \n",
       "               white  10.455127  5.737148  \n",
       "mod_high       red    10.261723  5.686441  \n",
       "               white  10.476386  5.784278  \n",
       "med            red    10.402564  5.668269  \n",
       "               white  10.798937  5.931282  \n",
       "low            red    10.587199  5.561856  \n",
       "               white  10.709100  6.065693  "
      ]
     },
     "execution_count": 37,
     "metadata": {},
     "output_type": "execute_result"
    }
   ],
   "source": [
    "wine.groupby(['acidity_levels', 'color']).mean()"
   ]
  },
  {
   "cell_type": "markdown",
   "id": "8f374ecb",
   "metadata": {},
   "source": [
    "## Do wines with higher alcoholic content receive better ratings?"
   ]
  },
  {
   "cell_type": "code",
   "execution_count": 38,
   "id": "bc032271",
   "metadata": {},
   "outputs": [],
   "source": [
    "median = wine['alcohol'].median()"
   ]
  },
  {
   "cell_type": "code",
   "execution_count": 39,
   "id": "7d50878e",
   "metadata": {},
   "outputs": [
    {
     "data": {
      "text/plain": [
       "10.4"
      ]
     },
     "execution_count": 39,
     "metadata": {},
     "output_type": "execute_result"
    }
   ],
   "source": [
    "median"
   ]
  },
  {
   "cell_type": "code",
   "execution_count": 40,
   "id": "854970e6",
   "metadata": {},
   "outputs": [],
   "source": [
    "low_alc = wine.query('alcohol < 10.4')\n",
    "high_alc = wine.query('alcohol >= 10.4')"
   ]
  },
  {
   "cell_type": "code",
   "execution_count": 41,
   "id": "b2278b1e",
   "metadata": {},
   "outputs": [],
   "source": [
    "quality_low_alc = low_alc['quality'].mean()\n",
    "quality_high_alc = high_alc['quality'].mean()"
   ]
  },
  {
   "cell_type": "code",
   "execution_count": 42,
   "id": "3715f56c",
   "metadata": {},
   "outputs": [
    {
     "data": {
      "image/png": "[encoded data removed]",
      "text/plain": [
       "<Figure size 864x576 with 1 Axes>"
      ]
     },
     "metadata": {},
     "output_type": "display_data"
    }
   ],
   "source": [
    "plt.figure(figsize=(12,8))\n",
    "plt.bar(['low', 'high'], [quality_low_alc, quality_high_alc])\n",
    "plt.title('quality depending of wine percentage', fontsize = 18, weight = 'bold')\n",
    "plt.xlabel('wine percentage', fontsize = 18, weight = 'bold')\n",
    "plt.ylabel('quality', fontsize = 18, weight = 'bold')\n",
    "plt.show()"
   ]
  },
  {
   "cell_type": "markdown",
   "id": "c6a01a4e",
   "metadata": {},
   "source": [
    ">> The higher the alcohol percentage the higher the quality."
   ]
  },
  {
   "cell_type": "markdown",
   "id": "cd649c5d",
   "metadata": {},
   "source": [
    "## Do sweeter wines receive better ratings?"
   ]
  },
  {
   "cell_type": "code",
   "execution_count": 43,
   "id": "127bb854",
   "metadata": {},
   "outputs": [
    {
     "data": {
      "text/plain": [
       "2.7"
      ]
     },
     "execution_count": 43,
     "metadata": {},
     "output_type": "execute_result"
    }
   ],
   "source": [
    "median = wine['residual_sugar'].median()\n",
    "median"
   ]
  },
  {
   "cell_type": "code",
   "execution_count": 44,
   "id": "30f5bf3a",
   "metadata": {},
   "outputs": [],
   "source": [
    "low_sug = wine.query('residual_sugar < 2.7')\n",
    "high_sug = wine.query('residual_sugar >= 2.7')"
   ]
  },
  {
   "cell_type": "code",
   "execution_count": 45,
   "id": "87aa560c",
   "metadata": {},
   "outputs": [],
   "source": [
    "quality_low_sug = low_sug['quality'].mean()\n",
    "quality_high_sug = high_sug['quality'].mean()"
   ]
  },
  {
   "cell_type": "code",
   "execution_count": 46,
   "id": "2732ffd8",
   "metadata": {},
   "outputs": [
    {
     "data": {
      "image/png": "[encoded data removed]",
      "text/plain": [
       "<Figure size 864x576 with 1 Axes>"
      ]
     },
     "metadata": {},
     "output_type": "display_data"
    }
   ],
   "source": [
    "plt.figure(figsize=(12,8))\n",
    "plt.bar(['low', 'high'], [quality_low_sug, quality_high_sug])\n",
    "plt.title('quality depending of sugar percentage', fontsize = 18, weight = 'bold')\n",
    "plt.xlabel('sugar percentage', fontsize = 18, weight = 'bold')\n",
    "plt.ylabel('quality', fontsize = 18, weight = 'bold')\n",
    "plt.show()"
   ]
  },
  {
   "cell_type": "markdown",
   "id": "61bc20dc",
   "metadata": {},
   "source": [
    ">> There is no significant difference in quality depending on the sugar percentange."
   ]
  },
  {
   "cell_type": "markdown",
   "id": "8966e5e1",
   "metadata": {},
   "source": [
    "## What level of acidity receives the highest average rating?"
   ]
  },
  {
   "cell_type": "code",
   "execution_count": 47,
   "id": "67810d90",
   "metadata": {},
   "outputs": [
    {
     "data": {
      "text/plain": [
       "acidity_levels\n",
       "high        5.728024\n",
       "mod_high    5.766917\n",
       "med         5.852624\n",
       "low         5.834254\n",
       "Name: quality, dtype: float64"
      ]
     },
     "execution_count": 47,
     "metadata": {},
     "output_type": "execute_result"
    }
   ],
   "source": [
    "y = wine.groupby('acidity_levels').quality.mean()\n",
    "y"
   ]
  },
  {
   "cell_type": "code",
   "execution_count": 48,
   "id": "643749fe",
   "metadata": {},
   "outputs": [
    {
     "data": {
      "image/png": "[encoded data removed]",
      "text/plain": [
       "<Figure size 864x576 with 1 Axes>"
      ]
     },
     "metadata": {},
     "output_type": "display_data"
    }
   ],
   "source": [
    "plt.figure(figsize=(12,8))\n",
    "plt.bar([1,2,3,4], y, tick_label = y.index)\n",
    "plt.title('quality depending of acidity levels', fontsize = 18, weight = 'bold')\n",
    "plt.xlabel('acidity level', fontsize = 18, weight = 'bold')\n",
    "plt.ylabel('quality', fontsize = 18, weight = 'bold')\n",
    "plt.show();"
   ]
  },
  {
   "cell_type": "markdown",
   "id": "141e5e90",
   "metadata": {},
   "source": [
    ">> Low and medium acidity levels have higher quality than the high and mod_high acidity levels."
   ]
  },
  {
   "cell_type": "markdown",
   "id": "a374f027",
   "metadata": {},
   "source": [
    "## Conclusions\n",
    "### We concluded that:\n",
    "> The white wine seems to have an edge over the red wine.\n",
    "\n",
    "> The higher the alcohol percentage the higher the quality.\n",
    "\n",
    "> There is no significant difference in quality depending on the sugar percentange.\n",
    "\n",
    "> Low and medium acidity levels have higher quality than the high and mod_high acidity levels.\n"
   ]
  },
  {
   "cell_type": "code",
   "execution_count": null,
   "id": "ee3c4f7a",
   "metadata": {},
   "outputs": [],
   "source": []
  }
 ],
 "metadata": {
  "kernelspec": {
   "display_name": "Python 3",
   "language": "python",
   "name": "python3"
  },
  "language_info": {
   "codemirror_mode": {
    "name": "ipython",
    "version": 3
   },
   "file_extension": ".py",
   "mimetype": "text/x-python",
   "name": "python",
   "nbconvert_exporter": "python",
   "pygments_lexer": "ipython3",
   "version": "3.8.8"
  }
 },
 "nbformat": 4,
 "nbformat_minor": 5
}
